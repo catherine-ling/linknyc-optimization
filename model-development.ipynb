{
 "cells": [
  {
   "cell_type": "code",
   "execution_count": 53,
   "id": "e3c5965a-8340-4923-83d3-9d6dcf59db44",
   "metadata": {},
   "outputs": [],
   "source": [
    "import pandas as pd\n",
    "import cvxpy as cp\n",
    "import numpy as np"
   ]
  },
  {
   "cell_type": "code",
   "execution_count": 54,
   "id": "bd79c485-fee0-4648-938b-00d37ec81bd7",
   "metadata": {},
   "outputs": [],
   "source": [
    "df = pd.read_csv(\"~/Desktop/OSU/OSU Senior/Fall/ISE 3230/poi_and_kiosk_by_ct_data.csv\")"
   ]
  },
  {
   "cell_type": "code",
   "execution_count": 81,
   "id": "2bf17e92-b8c9-4250-a80b-f3071f0e0fd6",
   "metadata": {},
   "outputs": [],
   "source": [
    "cost_map = {\n",
    "    5 : 1500, # Bronx\n",
    "    47 : 1000, # Brooklyn\n",
    "    61 : 1250, # Manhattan\n",
    "    81 : 1500, # Quenns\n",
    "    85 : 1100, # Staten Island\n",
    "}\n",
    "\n",
    "df['Cost'] = df['COUNTYFP'].map(cost_map)"
   ]
  },
  {
   "cell_type": "code",
   "execution_count": 125,
   "id": "0e41d104-3c33-48bc-86b7-629aba01d896",
   "metadata": {},
   "outputs": [],
   "source": [
    "# Get vectors and change nan pois to 0\n",
    "geoid = df['GEOID']\n",
    "kiosks=df['kiosks'].to_numpy()\n",
    "pop=df['population'].to_numpy()\n",
    "pois=df['pois'].to_numpy()\n",
    "cost=df['Cost'].to_numpy()\n",
    "borough=df['COUNTYFP']\n",
    "\n",
    "pois = np.nan_to_num(pois, nan=0, posinf=1, neginf=0)"
   ]
  },
  {
   "cell_type": "code",
   "execution_count": 126,
   "id": "811ab752-4f60-4d70-8fba-c26fc0db1c0a",
   "metadata": {},
   "outputs": [],
   "source": [
    "# Constants\n",
    "n = len(geoid)\n",
    "min_pois = 15\n",
    "max_kiosks = 2000\n",
    "min_pop = 10000\n",
    "max_ct_kiosks = 25\n",
    "borough_pop = 5000"
   ]
  },
  {
   "cell_type": "code",
   "execution_count": 127,
   "id": "92577432-26f1-4edc-8a76-e99802c24663",
   "metadata": {},
   "outputs": [
    {
     "name": "stdout",
     "output_type": "stream",
     "text": [
      "===============================================================================\n",
      "                                     CVXPY                                     \n",
      "                                     v1.5.3                                    \n",
      "===============================================================================\n",
      "(CVXPY) Nov 25 02:50:14 PM: Your problem has 2327 variables, 9313 constraints, and 0 parameters.\n",
      "(CVXPY) Nov 25 02:50:14 PM: It is compliant with the following grammars: DCP, DQCP\n",
      "(CVXPY) Nov 25 02:50:14 PM: (If you need to solve this problem multiple times, but with different data, consider using parameters.)\n",
      "(CVXPY) Nov 25 02:50:14 PM: CVXPY will first compile your problem; then, it will invoke a numerical solver to obtain a solution.\n",
      "(CVXPY) Nov 25 02:50:14 PM: Your problem is compiled with the CPP canonicalization backend.\n",
      "-------------------------------------------------------------------------------\n",
      "                                  Compilation                                  \n",
      "-------------------------------------------------------------------------------\n",
      "(CVXPY) Nov 25 02:50:14 PM: Compiling problem (target solver=GUROBI).\n",
      "(CVXPY) Nov 25 02:50:14 PM: Reduction chain: CvxAttr2Constr -> Qp2SymbolicQp -> QpMatrixStuffing -> GUROBI\n",
      "(CVXPY) Nov 25 02:50:14 PM: Applying reduction CvxAttr2Constr\n",
      "(CVXPY) Nov 25 02:50:14 PM: Applying reduction Qp2SymbolicQp\n",
      "(CVXPY) Nov 25 02:50:14 PM: Applying reduction QpMatrixStuffing\n",
      "(CVXPY) Nov 25 02:50:14 PM: Applying reduction GUROBI\n",
      "(CVXPY) Nov 25 02:50:14 PM: Finished problem compilation (took 2.038e-01 seconds).\n",
      "-------------------------------------------------------------------------------\n",
      "                                Numerical solver                               \n",
      "-------------------------------------------------------------------------------\n",
      "(CVXPY) Nov 25 02:50:14 PM: Invoking solver GUROBI  to obtain a solution.\n",
      "Set parameter QCPDual to value 1\n",
      "Gurobi Optimizer version 11.0.3 build v11.0.3rc0 (mac64[x86] - Darwin 23.5.0 23F79)\n",
      "\n",
      "CPU model: Intel(R) Core(TM) i3-1000NG4 CPU @ 1.10GHz\n",
      "Thread count: 2 physical cores, 4 logical processors, using up to 4 threads\n",
      "\n",
      "Optimize a model with 9313 rows, 2327 columns and 11635 nonzeros\n",
      "Model fingerprint: 0xafa99ac5\n",
      "Variable types: 0 continuous, 2327 integer (0 binary)\n",
      "Coefficient statistics:\n",
      "  Matrix range     [1e-03, 1e+00]\n",
      "  Objective range  [1e+03, 2e+03]\n",
      "  Bounds range     [0e+00, 0e+00]\n",
      "  RHS range        [7e-03, 2e+03]\n",
      "\n",
      "No start values specified in MIP start\n",
      "\n",
      "Presolve removed 9313 rows and 2327 columns\n",
      "Presolve time: 0.02s\n",
      "Presolve: All rows and columns removed\n",
      "\n",
      "Explored 0 nodes (0 simplex iterations) in 0.07 seconds (0.00 work units)\n",
      "Thread count was 1 (of 4 available processors)\n",
      "\n",
      "Solution count 1: 566900 \n",
      "\n",
      "Optimal solution found (tolerance 1.00e-04)\n",
      "Best objective 5.669000000000e+05, best bound 5.669000000000e+05, gap 0.0000%\n",
      "-------------------------------------------------------------------------------\n",
      "                                    Summary                                    \n",
      "-------------------------------------------------------------------------------\n",
      "(CVXPY) Nov 25 02:50:14 PM: Problem status: optimal\n",
      "(CVXPY) Nov 25 02:50:14 PM: Optimal value: 5.669e+05\n",
      "(CVXPY) Nov 25 02:50:15 PM: Compilation took 2.038e-01 seconds\n",
      "(CVXPY) Nov 25 02:50:15 PM: Solver (including time spent in interface) took 6.115e-01 seconds\n",
      "Solver status: optimal\n",
      "X values: [ 6.  3.  3. ... -0. -0.  1.]\n",
      "Objective Function 566900.0\n"
     ]
    }
   ],
   "source": [
    "X = cp.Variable(n, integer=True)\n",
    "\n",
    "# Minimize total cost\n",
    "obj_fun = cp.sum(cp.multiply(cost, X))\n",
    "\n",
    "    \n",
    "constraints = []\n",
    "constraints.append(X>=0)\n",
    "constraints.append(X<=max_kiosks) # Can have maximum of 2000 kiosks total ($2 million max budget)\n",
    "constraints.append(X <= pois/min_pois*5) # For every 15 pois can have max 5 kiosks in CT\n",
    "constraints.append(X <= pop/min_pop*10) # For every 3000 people can have max 7 kiosks CT\n",
    "\n",
    "for b in [5, 47, 61, 81, 85]: # For Each borough\n",
    "    lt = len(geoid[borough==b]) # numer of CT in burough\n",
    "    # average population in the borough divided by 5000 <= average total kiosks\n",
    "    # On average over each CT in a borough 1 total kiosk for 5000 people\n",
    "    constraints.append(sum(pop[borough==b]/borough_pop)/lt <= cp.sum(kiosks[borough==b]+X[borough==b])/lt)\n",
    "\n",
    "\n",
    "\n",
    "problem = cp.Problem(cp.Minimize(obj_fun), constraints)\n",
    "problem.solve(solver=cp.GUROBI, verbose=True)\n",
    "\n",
    "\n",
    "print(\"Solver status:\", problem.status)\n",
    "print(\"X values:\", X.value)\n",
    "print(\"Objective Function\", obj_fun.value)\n"
   ]
  },
  {
   "cell_type": "code",
   "execution_count": 131,
   "id": "107de44e-9f7e-4e8f-9dd6-3eba91a9c7f5",
   "metadata": {},
   "outputs": [
    {
     "name": "stdout",
     "output_type": "stream",
     "text": [
      "Total Kiosks added:  459.0\n",
      "Total cost:  566900.0\n",
      "Borough 5 : Kiosks added = 82.0\n",
      "Borough 5 : Cost = 123000.0\n",
      "Borough 47 : Kiosks added = 204.0\n",
      "Borough 47 : Cost = 204000.0\n",
      "Borough 61 : Kiosks added = 0.0\n",
      "Borough 61 : Cost = 0.0\n",
      "Borough 81 : Kiosks added = 124.0\n",
      "Borough 81 : Cost = 186000.0\n",
      "Borough 85 : Kiosks added = 49.0\n",
      "Borough 85 : Cost = 53900.0\n"
     ]
    }
   ],
   "source": [
    "print(\"Total Kiosks added: \", sum(X.value))\n",
    "print(\"Total cost: \", obj_fun.value)\n",
    "\n",
    "for b in [5, 47, 61, 81, 85]:  # Adjust number of boroughs as needed\n",
    "    # Sum kiosks added in this borough\n",
    "    kiosks_in_borough = np.sum(X.value[borough == b])\n",
    "    cost_for_b = np.sum(np.multiply(cost[borough==b], X.value[borough==b]))\n",
    "    print(f\"Borough {b} : Kiosks added = {kiosks_in_borough}\")\n",
    "    print(f\"Borough {b} : Cost = {cost_for_b}\")\n"
   ]
  },
  {
   "cell_type": "code",
   "execution_count": 132,
   "id": "e3c37d48-599b-479d-bc8c-2e49d623553f",
   "metadata": {},
   "outputs": [],
   "source": [
    "df['kiosks_added'] = X.value"
   ]
  },
  {
   "cell_type": "code",
   "execution_count": 133,
   "id": "09e00c91-474a-43ba-8c9c-fd1b0966ab23",
   "metadata": {},
   "outputs": [],
   "source": [
    "df.to_csv(\"after_optimization_kiosks.csv\")"
   ]
  }
 ],
 "metadata": {
  "kernelspec": {
   "display_name": "Python 3 (ipykernel)",
   "language": "python",
   "name": "python3"
  },
  "language_info": {
   "codemirror_mode": {
    "name": "ipython",
    "version": 3
   },
   "file_extension": ".py",
   "mimetype": "text/x-python",
   "name": "python",
   "nbconvert_exporter": "python",
   "pygments_lexer": "ipython3",
   "version": "3.12.2"
  }
 },
 "nbformat": 4,
 "nbformat_minor": 5
}
